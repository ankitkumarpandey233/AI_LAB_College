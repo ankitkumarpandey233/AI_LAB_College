{
  "cells": [
    {
      "cell_type": "markdown",
      "metadata": {
        "id": "view-in-github",
        "colab_type": "text"
      },
      "source": [
        "<a href=\"https://colab.research.google.com/github/ankitkumarpandey233/AI_LAB_College/blob/main/Ai_lab.ipynb\" target=\"_parent\"><img src=\"https://colab.research.google.com/assets/colab-badge.svg\" alt=\"Open In Colab\"/></a>"
      ]
    },
    {
      "cell_type": "markdown",
      "source": [
        "# **PRACTICAL-1**"
      ],
      "metadata": {
        "id": "QgkGlCI7pzNo"
      }
    },
    {
      "cell_type": "code",
      "execution_count": null,
      "metadata": {
        "id": "khNrlRVde8pR"
      },
      "outputs": [],
      "source": [
        "class Node:\n",
        "    def __init__(self,name,parent, childList = []):\n",
        "        self.name = name\n",
        "        self.parent = parent\n",
        "        self.childList = childList\n",
        "        self.level = 0\n",
        "        if self.parent != None:\n",
        "            self.level = self.parent.level + 1\n",
        "    def addChild(self, node):\n",
        "        self.childList.append(node)"
      ]
    },
    {
      "cell_type": "code",
      "source": [
        "class Tree:\n",
        "    def __init__(self, node):\n",
        "        self.root = node\n",
        "    def addNode(self, node_name, parent):\n",
        "        node = Node(node_name, parent)\n",
        "        parent.addChild(node)\n",
        "        return node\n",
        "    def bfs(self, node, search_name):\n",
        "        queue = [node]\n",
        "        while queue:\n",
        "            current = queue.pop(0)\n",
        "            if current.name == search_name:\n",
        "                return current\n",
        "            for child in current.childList:\n",
        "                queue.append(child)\n",
        "        return None\n",
        "    def path(self, node):\n",
        "        temp = node\n",
        "        path=[]\n",
        "        while temp.parent != None:\n",
        "            path.append(temp.name)\n",
        "            temp = temp.parent\n",
        "        path.reverse()\n",
        "        print(path)"
      ],
      "metadata": {
        "id": "4EYGeQQJpybN"
      },
      "execution_count": null,
      "outputs": []
    },
    {
      "cell_type": "code",
      "source": [
        "root = Node(\"Amit\", None)\n",
        "tree = Tree(root)"
      ],
      "metadata": {
        "id": "FJ24N_O4pvbL"
      },
      "execution_count": null,
      "outputs": []
    },
    {
      "cell_type": "code",
      "source": [
        "# level 1\n",
        "rahul = tree.addNode(\"Rahul\", root)\n",
        "priya = tree.addNode(\"Priya\", root)\n",
        "\n",
        "# level 2\n",
        "sanjay = tree.addNode(\"Sanjay\", rahul)\n",
        "ravi = tree.addNode(\"Ravi\", rahul)\n",
        "nisha = tree.addNode(\"Nisha\", priya)\n",
        "claire = tree.addNode(\"Claire\", priya)\n",
        "\n",
        "# level 3\n",
        "deepak = tree.addNode(\"Deepak\", sanjay)\n",
        "raj = tree.addNode(\"Raj\", sanjay)\n",
        "suresh = tree.addNode(\"Suresh\", sanjay)\n",
        "lisa = tree.addNode(\"Lisa\", nisha)\n",
        "eric = tree.addNode(\"Eric\", claire)\n",
        "\n",
        "# level 4\n",
        "vinay = tree.addNode(\"Vinay\", deepak)\n",
        "akash = tree.addNode(\"Akash\", deepak)\n",
        "guarav = tree.addNode(\"Gaurav\", raj)\n",
        "meena = tree.addNode(\"Meena\", suresh)\n",
        "sam = tree.addNode(\"Sam\", lisa)\n",
        "john = tree.addNode(\"John\", lisa)\n",
        "\n",
        "# level 5\n",
        "ankit = tree.addNode(\"Ankit\", vinay)\n",
        "harsh = tree.addNode(\"Harsh\", vinay)\n",
        "aditya = tree.addNode(\"Aditya\", guarav)\n",
        "sneha = tree.addNode(\"Sneha\", guarav)\n",
        "alice = tree.addNode(\"Alice\", guarav)\n",
        "reena = tree.addNode(\"Reena\", meena)\n",
        "\n",
        "# level 6\n",
        "abhishek = tree.addNode(\"Abhishek\", ankit)\n",
        "punit = tree.addNode(\"Punit\", harsh)\n",
        "vikas = tree.addNode(\"Vikas\", harsh)\n",
        "varun = tree.addNode(\"Varun\", aditya)\n",
        "anjali = tree.addNode(\"Anjali\", sneha)\n",
        "arun = tree.addNode(\"Arun\", sneha)\n",
        "carol = tree.addNode(\"Carol\", alice)\n",
        "dave = tree.addNode(\"Dave\", alice)\n",
        "\n",
        "# level 7\n",
        "rohan = tree.addNode(\"Rohan\", abhishek)\n",
        "ajay = tree.addNode(\"Ajay\", abhishek)\n",
        "nidhi = tree.addNode(\"Nidhi\", anjali)\n",
        "sachin = tree.addNode(\"Sachin\", arun)\n",
        "sumit = tree.addNode(\"Sumit\", arun)\n",
        "\n",
        "# level 8\n",
        "aruna = tree.addNode(\"Aruna\", rohan)\n",
        "ramji = tree.addNode(\"Ramji\", rohan)\n",
        "virat = tree.addNode(\"Virat\", ajay)\n",
        "isha = tree.addNode(\"Isha\", ajay)\n",
        "prem = tree.addNode(\"Prem\", nidhi)\n",
        "lina = tree.addNode(\"Lina\", nidhi)\n"
      ],
      "metadata": {
        "id": "Uz9FNEA2pqwC"
      },
      "execution_count": null,
      "outputs": []
    },
    {
      "cell_type": "code",
      "source": [
        "bfs = tree.bfs(root, \"Ankit\")\n",
        "print(bfs.name, bfs.level)\n",
        "tree.path(bfs)\n",
        "\n",
        "\n"
      ],
      "metadata": {
        "id": "QmSBNw8zntyo"
      },
      "execution_count": null,
      "outputs": []
    },
    {
      "cell_type": "code",
      "source": [
        "    # def get_path(self, node):\n",
        "\n",
        "    #     path = []\n",
        "    #     while node:\n",
        "    #         path.append(node.state)\n",
        "    #         node = node.parent\n",
        "\n",
        "    #     return path[::-1]"
      ],
      "metadata": {
        "id": "GyPiVLygqetj"
      },
      "execution_count": null,
      "outputs": []
    },
    {
      "cell_type": "code",
      "source": [
        "        # path = bfs.bfs()\n",
        "\n",
        "        # if path:\n",
        "        #     print(\"Path to the goal:\")\n",
        "        #     for state in path:\n",
        "        #         print(state)\n",
        "        # else:\n",
        "        #     print(\"No solution found.\")"
      ],
      "metadata": {
        "id": "0yRbjNI0qanS"
      },
      "execution_count": null,
      "outputs": []
    },
    {
      "cell_type": "markdown",
      "source": [
        "# **PRACTICAL -2**"
      ],
      "metadata": {
        "id": "KZOPoF1Bpq2R"
      }
    },
    {
      "cell_type": "code",
      "source": [
        "from collections import deque\n",
        "class Node:\n",
        "    def __init__(self, x, y, parent=None):\n",
        "        self.x = x\n",
        "        self.y = y\n",
        "        self.parent = parent\n",
        "\n",
        "    def apply_action(self, rule, waterjug_obj):\n",
        "        if rule == 1:\n",
        "            return Node(waterjug_obj.maxjug1, self.y, self)\n",
        "        elif rule == 2:\n",
        "            return Node(self.x, waterjug_obj.maxjug2, self)\n",
        "        elif rule == 3:\n",
        "            return Node(0, self.y, self)\n",
        "        elif rule == 4:\n",
        "            return Node(self.x, 0, self)\n",
        "        elif rule == 5:\n",
        "            diff = min(self.x, waterjug_obj.maxjug2 - self.y)\n",
        "            return Node(self.x - diff, self.y + diff, self)\n",
        "        elif rule == 6:\n",
        "            diff = min(self.y, waterjug_obj.maxjug1 - self.x)\n",
        "            return Node(self.x + diff, self.y - diff, self)\n",
        "        else:\n",
        "            return None\n",
        "\n",
        "    def is_goal_state(self, goal):\n",
        "        return self.x == goal[0] and self.y == goal[1]\n",
        "\n",
        "    def __repr__(self):\n",
        "        return f'Node({self.x}, {self.y})'\n",
        "\n",
        "class WaterJug:\n",
        "    def __init__(self, jug1, jug2):\n",
        "        self.maxjug1 = jug1\n",
        "        self.maxjug2 = jug2\n",
        "\n",
        "\n",
        "def bfs_search(initial_state, goal_state, waterjug_obj):\n",
        "    queue = deque([initial_state])\n",
        "    visited = set()\n",
        "\n",
        "    while queue:\n",
        "        current_node = queue.popleft()\n",
        "\n",
        "        if current_node.is_goal_state(goal_state):\n",
        "            return current_node\n",
        "\n",
        "        visited.add((current_node.x, current_node.y))\n",
        "\n",
        "        for rule in range(1, 7):\n",
        "            new_node = current_node.apply_action(rule, waterjug_obj)\n",
        "            if new_node and (new_node.x, new_node.y) not in visited:\n",
        "                queue.append(new_node)\n",
        "                visited.add((new_node.x, new_node.y))\n",
        "\n",
        "    return None\n",
        "\n",
        "\n",
        "if __name__ == \"__main__\":\n",
        "    waterjug1 = int(input(\"Enter the capacity of the first jug: \"))\n",
        "    waterjug2 = int(input(\"Enter the capacity of the second jug: \"))\n",
        "    waterjug_obj = WaterJug(waterjug1, waterjug2)\n",
        "\n",
        "    goal = int(input(\"Enter value of goal in jug 1: \"))\n",
        "    goal2 = int(input(\"Enter value of goal in jug 2: \"))\n",
        "    goal_state = (goal, goal2)\n",
        "\n",
        "    initial_state = Node(0, 0)\n",
        "    solution = bfs_search(initial_state, goal_state, waterjug_obj)\n",
        "\n",
        "    if solution:\n",
        "        path = []\n",
        "        while solution:\n",
        "            path.append((solution.x, solution.y))\n",
        "            solution = solution.parent\n",
        "        path.reverse()\n",
        "        print(\"Solution found:\")\n",
        "        print(path)\n",
        "\n",
        "    else:\n",
        "        print(\"No solution found.\")\n",
        ""
      ],
      "metadata": {
        "colab": {
          "base_uri": "https://localhost:8080/"
        },
        "id": "r95DXZzarydL",
        "outputId": "ee8f8538-1116-49b9-d114-1849519accd4"
      },
      "execution_count": 10,
      "outputs": [
        {
          "output_type": "stream",
          "name": "stdout",
          "text": [
            "Enter the capacity of the first jug: 5\n",
            "Enter the capacity of the second jug: 3\n",
            "Enter value of goal in jug 1: 4\n",
            "Enter value of goal in jug 2: 0\n",
            "Solution found:\n",
            "[(0, 0), (5, 0), (2, 3), (2, 0), (0, 2), (5, 2), (4, 3), (4, 0)]\n"
          ]
        }
      ]
    }
  ],
  "metadata": {
    "colab": {
      "provenance": [],
      "authorship_tag": "ABX9TyOQDmBziZeTqe/dloddwS3X",
      "include_colab_link": true
    },
    "kernelspec": {
      "display_name": "Python 3",
      "name": "python3"
    },
    "language_info": {
      "name": "python"
    }
  },
  "nbformat": 4,
  "nbformat_minor": 0
}