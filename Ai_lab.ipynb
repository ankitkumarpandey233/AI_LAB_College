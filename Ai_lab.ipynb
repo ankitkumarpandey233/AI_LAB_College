{
  "cells": [
    {
      "cell_type": "markdown",
      "metadata": {
        "id": "view-in-github",
        "colab_type": "text"
      },
      "source": [
        "<a href=\"https://colab.research.google.com/github/ankitkumarpandey233/AI_LAB_College/blob/main/Ai_lab.ipynb\" target=\"_parent\"><img src=\"https://colab.research.google.com/assets/colab-badge.svg\" alt=\"Open In Colab\"/></a>"
      ]
    },
    {
      "cell_type": "code",
      "execution_count": 35,
      "metadata": {
        "colab": {
          "base_uri": "https://localhost:8080/"
        },
        "id": "khNrlRVde8pR",
        "outputId": "5cf0b94b-32cd-49f1-b2a7-b56a90129a99"
      },
      "outputs": [
        {
          "output_type": "stream",
          "name": "stdout",
          "text": [
            "Virat 8\n",
            "['Rahul', 'Sanjay', 'Deepak', 'Vinay', 'Ankit', 'Abhishek', 'Ajay', 'Virat']\n"
          ]
        }
      ],
      "source": [
        "class Node:\n",
        "    def __init__(self,name,parent, childList = []):\n",
        "        self.name = name\n",
        "        self.parent = parent\n",
        "        self.childList = childList\n",
        "        self.level = 0\n",
        "        if self.parent != None:\n",
        "            self.level = self.parent.level + 1\n",
        "    def addChild(self, node):\n",
        "        self.childList.append(node)\n",
        "\n",
        "class Tree:\n",
        "    def __init__(self, node):\n",
        "        self.root = node\n",
        "    def addNode(self, node_name, parent):\n",
        "        node = Node(node_name, parent)\n",
        "        parent.addChild(node)\n",
        "        return node\n",
        "    def bfs(self, node, search_name):\n",
        "        queue = [node]\n",
        "        while queue:\n",
        "            current = queue.pop(0)\n",
        "            if current.name == search_name:\n",
        "                return current\n",
        "            for child in current.childList:\n",
        "                queue.append(child)\n",
        "        return None\n",
        "    def path(self, node):\n",
        "        temp = node\n",
        "        path=[]\n",
        "        while temp.parent != None:\n",
        "            path.append(temp.name)\n",
        "            temp = temp.parent\n",
        "        path.reverse()\n",
        "        print(path)\n",
        "\n",
        "root = Node(\"Amit\", None)\n",
        "tree = Tree(root)\n",
        "\n",
        "# level 1\n",
        "rahul = tree.addNode(\"Rahul\", root)\n",
        "priya = tree.addNode(\"Priya\", root)\n",
        "\n",
        "# level 2\n",
        "sanjay = tree.addNode(\"Sanjay\", rahul)\n",
        "ravi = tree.addNode(\"Ravi\", rahul)\n",
        "nisha = tree.addNode(\"Nisha\", priya)\n",
        "claire = tree.addNode(\"Claire\", priya)\n",
        "\n",
        "# level 3\n",
        "deepak = tree.addNode(\"Deepak\", sanjay)\n",
        "raj = tree.addNode(\"Raj\", sanjay)\n",
        "suresh = tree.addNode(\"Suresh\", sanjay)\n",
        "lisa = tree.addNode(\"Lisa\", nisha)\n",
        "eric = tree.addNode(\"Eric\", claire)\n",
        "\n",
        "# level 4\n",
        "vinay = tree.addNode(\"Vinay\", deepak)\n",
        "akash = tree.addNode(\"Akash\", deepak)\n",
        "guarav = tree.addNode(\"Gaurav\", raj)\n",
        "meena = tree.addNode(\"Meena\", suresh)\n",
        "sam = tree.addNode(\"Sam\", lisa)\n",
        "john = tree.addNode(\"John\", lisa)\n",
        "\n",
        "# level 5\n",
        "ankit = tree.addNode(\"Ankit\", vinay)\n",
        "harsh = tree.addNode(\"Harsh\", vinay)\n",
        "aditya = tree.addNode(\"Aditya\", guarav)\n",
        "sneha = tree.addNode(\"Sneha\", guarav)\n",
        "alice = tree.addNode(\"Alice\", guarav)\n",
        "reena = tree.addNode(\"Reena\", meena)\n",
        "\n",
        "# level 6\n",
        "abhishek = tree.addNode(\"Abhishek\", ankit)\n",
        "punit = tree.addNode(\"Punit\", harsh)\n",
        "vikas = tree.addNode(\"Vikas\", harsh)\n",
        "varun = tree.addNode(\"Varun\", aditya)\n",
        "anjali = tree.addNode(\"Anjali\", sneha)\n",
        "arun = tree.addNode(\"Arun\", sneha)\n",
        "carol = tree.addNode(\"Carol\", alice)\n",
        "dave = tree.addNode(\"Dave\", alice)\n",
        "\n",
        "# level 7\n",
        "rohan = tree.addNode(\"Rohan\", abhishek)\n",
        "ajay = tree.addNode(\"Ajay\", abhishek)\n",
        "nidhi = tree.addNode(\"Nidhi\", anjali)\n",
        "sachin = tree.addNode(\"Sachin\", arun)\n",
        "sumit = tree.addNode(\"Sumit\", arun)\n",
        "\n",
        "# level 8\n",
        "aruna = tree.addNode(\"Aruna\", rohan)\n",
        "ramji = tree.addNode(\"Ramji\", rohan)\n",
        "virat = tree.addNode(\"Virat\", ajay)\n",
        "isha = tree.addNode(\"Isha\", ajay)\n",
        "prem = tree.addNode(\"Prem\", nidhi)\n",
        "lina = tree.addNode(\"Lina\", nidhi)\n",
        "\n",
        "bfs = tree.bfs(root, \"Virat\")\n",
        "print(bfs.name, bfs.level)\n",
        "tree.path(bfs)\n"
      ]
    },
    {
      "cell_type": "code",
      "source": [],
      "metadata": {
        "id": "QmSBNw8zntyo"
      },
      "execution_count": null,
      "outputs": []
    }
  ],
  "metadata": {
    "colab": {
      "provenance": [],
      "authorship_tag": "ABX9TyOkNg7ggqTfzXGXubP6Xynk",
      "include_colab_link": true
    },
    "kernelspec": {
      "display_name": "Python 3",
      "name": "python3"
    },
    "language_info": {
      "name": "python"
    }
  },
  "nbformat": 4,
  "nbformat_minor": 0
}