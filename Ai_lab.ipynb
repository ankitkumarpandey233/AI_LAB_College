{
  "cells": [
    {
      "cell_type": "markdown",
      "metadata": {
        "id": "view-in-github",
        "colab_type": "text"
      },
      "source": [
        "<a href=\"https://colab.research.google.com/github/ankitkumarpandey233/AI_LAB_College/blob/main/Ai_lab.ipynb\" target=\"_parent\"><img src=\"https://colab.research.google.com/assets/colab-badge.svg\" alt=\"Open In Colab\"/></a>"
      ]
    },
    {
      "cell_type": "markdown",
      "metadata": {
        "id": "QgkGlCI7pzNo"
      },
      "source": [
        "# **PRACTICAL-1**"
      ]
    },
    {
      "cell_type": "code",
      "execution_count": null,
      "metadata": {
        "colab": {
          "base_uri": "https://localhost:8080/"
        },
        "id": "khNrlRVde8pR",
        "outputId": "f710a731-b248-4640-d736-518d8950242b"
      },
      "outputs": [
        {
          "name": "stdout",
          "output_type": "stream",
          "text": [
            "solution found\n",
            "node to find: Ankit\n",
            "path cost: 5\n",
            "['Rahul', 'Sanjay', 'Deepak', 'Vinay', 'Ankit']\n"
          ]
        }
      ],
      "source": [
        "class Node:\n",
        "    def __init__(self,name,parent, childList = []):\n",
        "        self.name = name\n",
        "        self.parent = parent\n",
        "        self.childList = childList\n",
        "        self.level = 0\n",
        "        if self.parent != None:\n",
        "            self.level = self.parent.level + 1\n",
        "    def addChild(self, node):\n",
        "        self.childList.append(node)\n",
        "class Tree:\n",
        "    def __init__(self, node):\n",
        "        self.root = node\n",
        "    def addNode(self, node_name, parent):\n",
        "        node = Node(node_name, parent)\n",
        "        parent.addChild(node)\n",
        "        return node\n",
        "    def bfs(self, node, search_name):\n",
        "        queue = [node]\n",
        "        while queue:\n",
        "            current = queue.pop(0)\n",
        "            if current.name == search_name:\n",
        "                return current\n",
        "            for child in current.childList:\n",
        "                queue.append(child)\n",
        "        return None\n",
        "    def path(self, node):\n",
        "        temp = node\n",
        "        path=[]\n",
        "        while temp.parent != None:\n",
        "            path.append(temp.name)\n",
        "            temp = temp.parent\n",
        "        path.reverse()\n",
        "        print(path)\n",
        "root = Node(\"Amit\", None)\n",
        "tree = Tree(root)\n",
        "# level 1\n",
        "rahul = tree.addNode(\"Rahul\", root)\n",
        "priya = tree.addNode(\"Priya\", root)\n",
        "\n",
        "# level 2\n",
        "sanjay = tree.addNode(\"Sanjay\", rahul)\n",
        "ravi = tree.addNode(\"Ravi\", rahul)\n",
        "nisha = tree.addNode(\"Nisha\", priya)\n",
        "claire = tree.addNode(\"Claire\", priya)\n",
        "\n",
        "# level 3\n",
        "deepak = tree.addNode(\"Deepak\", sanjay)\n",
        "raj = tree.addNode(\"Raj\", sanjay)\n",
        "suresh = tree.addNode(\"Suresh\", sanjay)\n",
        "lisa = tree.addNode(\"Lisa\", nisha)\n",
        "eric = tree.addNode(\"Eric\", claire)\n",
        "\n",
        "# level 4\n",
        "vinay = tree.addNode(\"Vinay\", deepak)\n",
        "akash = tree.addNode(\"Akash\", deepak)\n",
        "guarav = tree.addNode(\"Gaurav\", raj)\n",
        "meena = tree.addNode(\"Meena\", suresh)\n",
        "sam = tree.addNode(\"Sam\", lisa)\n",
        "john = tree.addNode(\"John\", lisa)\n",
        "\n",
        "# level 5\n",
        "ankit = tree.addNode(\"Ankit\", vinay)\n",
        "harsh = tree.addNode(\"Harsh\", vinay)\n",
        "aditya = tree.addNode(\"Aditya\", guarav)\n",
        "sneha = tree.addNode(\"Sneha\", guarav)\n",
        "alice = tree.addNode(\"Alice\", guarav)\n",
        "reena = tree.addNode(\"Reena\", meena)\n",
        "\n",
        "# level 6\n",
        "abhishek = tree.addNode(\"Abhishek\", ankit)\n",
        "punit = tree.addNode(\"Punit\", harsh)\n",
        "vikas = tree.addNode(\"Vikas\", harsh)\n",
        "varun = tree.addNode(\"Varun\", aditya)\n",
        "anjali = tree.addNode(\"Anjali\", sneha)\n",
        "arun = tree.addNode(\"Arun\", sneha)\n",
        "carol = tree.addNode(\"Carol\", alice)\n",
        "dave = tree.addNode(\"Dave\", alice)\n",
        "\n",
        "# level 7\n",
        "rohan = tree.addNode(\"Rohan\", abhishek)\n",
        "ajay = tree.addNode(\"Ajay\", abhishek)\n",
        "nidhi = tree.addNode(\"Nidhi\", anjali)\n",
        "sachin = tree.addNode(\"Sachin\", arun)\n",
        "sumit = tree.addNode(\"Sumit\", arun)\n",
        "\n",
        "# level 8\n",
        "aruna = tree.addNode(\"Aruna\", rohan)\n",
        "ramji = tree.addNode(\"Ramji\", rohan)\n",
        "virat = tree.addNode(\"Virat\", ajay)\n",
        "isha = tree.addNode(\"Isha\", ajay)\n",
        "prem = tree.addNode(\"Prem\", nidhi)\n",
        "lina = tree.addNode(\"Lina\", nidhi)\n",
        "\n",
        "bfs = tree.bfs(root, \"Ankit\")\n",
        "print(\"solution found\")\n",
        "print(\"node to find:\", bfs.name)\n",
        "print(\"path cost:\",bfs.level)\n",
        "tree.path(bfs)\n",
        "\n",
        "\n",
        "\n"
      ]
    },
    {
      "cell_type": "code",
      "execution_count": null,
      "metadata": {
        "id": "4EYGeQQJpybN"
      },
      "outputs": [],
      "source": [
        "class Tree:\n",
        "    def __init__(self, node):\n",
        "        self.root = node\n",
        "    def addNode(self, node_name, parent):\n",
        "        node = Node(node_name, parent)\n",
        "        parent.addChild(node)\n",
        "        return node\n",
        "    def bfs(self, node, search_name):\n",
        "        queue = [node]\n",
        "        while queue:\n",
        "            current = queue.pop(0)\n",
        "            if current.name == search_name:\n",
        "                return current\n",
        "            for child in current.childList:\n",
        "                queue.append(child)\n",
        "        return None\n",
        "    def path(self, node):\n",
        "        temp = node\n",
        "        path=[]\n",
        "        while temp.parent != None:\n",
        "            path.append(temp.name)\n",
        "            temp = temp.parent\n",
        "        path.reverse()\n",
        "        print(path)"
      ]
    },
    {
      "cell_type": "code",
      "execution_count": null,
      "metadata": {
        "id": "FJ24N_O4pvbL"
      },
      "outputs": [],
      "source": [
        "root = Node(\"Amit\", None)\n",
        "tree = Tree(root)"
      ]
    },
    {
      "cell_type": "code",
      "execution_count": null,
      "metadata": {
        "id": "Uz9FNEA2pqwC"
      },
      "outputs": [],
      "source": [
        "# level 1\n",
        "rahul = tree.addNode(\"Rahul\", root)\n",
        "priya = tree.addNode(\"Priya\", root)\n",
        "\n",
        "# level 2\n",
        "sanjay = tree.addNode(\"Sanjay\", rahul)\n",
        "ravi = tree.addNode(\"Ravi\", rahul)\n",
        "nisha = tree.addNode(\"Nisha\", priya)\n",
        "claire = tree.addNode(\"Claire\", priya)\n",
        "\n",
        "# level 3\n",
        "deepak = tree.addNode(\"Deepak\", sanjay)\n",
        "raj = tree.addNode(\"Raj\", sanjay)\n",
        "suresh = tree.addNode(\"Suresh\", sanjay)\n",
        "lisa = tree.addNode(\"Lisa\", nisha)\n",
        "eric = tree.addNode(\"Eric\", claire)\n",
        "\n",
        "# level 4\n",
        "vinay = tree.addNode(\"Vinay\", deepak)\n",
        "akash = tree.addNode(\"Akash\", deepak)\n",
        "guarav = tree.addNode(\"Gaurav\", raj)\n",
        "meena = tree.addNode(\"Meena\", suresh)\n",
        "sam = tree.addNode(\"Sam\", lisa)\n",
        "john = tree.addNode(\"John\", lisa)\n",
        "\n",
        "# level 5\n",
        "ankit = tree.addNode(\"Ankit\", vinay)\n",
        "harsh = tree.addNode(\"Harsh\", vinay)\n",
        "aditya = tree.addNode(\"Aditya\", guarav)\n",
        "sneha = tree.addNode(\"Sneha\", guarav)\n",
        "alice = tree.addNode(\"Alice\", guarav)\n",
        "reena = tree.addNode(\"Reena\", meena)\n",
        "\n",
        "# level 6\n",
        "abhishek = tree.addNode(\"Abhishek\", ankit)\n",
        "punit = tree.addNode(\"Punit\", harsh)\n",
        "vikas = tree.addNode(\"Vikas\", harsh)\n",
        "varun = tree.addNode(\"Varun\", aditya)\n",
        "anjali = tree.addNode(\"Anjali\", sneha)\n",
        "arun = tree.addNode(\"Arun\", sneha)\n",
        "carol = tree.addNode(\"Carol\", alice)\n",
        "dave = tree.addNode(\"Dave\", alice)\n",
        "\n",
        "# level 7\n",
        "rohan = tree.addNode(\"Rohan\", abhishek)\n",
        "ajay = tree.addNode(\"Ajay\", abhishek)\n",
        "nidhi = tree.addNode(\"Nidhi\", anjali)\n",
        "sachin = tree.addNode(\"Sachin\", arun)\n",
        "sumit = tree.addNode(\"Sumit\", arun)\n",
        "\n",
        "# level 8\n",
        "aruna = tree.addNode(\"Aruna\", rohan)\n",
        "ramji = tree.addNode(\"Ramji\", rohan)\n",
        "virat = tree.addNode(\"Virat\", ajay)\n",
        "isha = tree.addNode(\"Isha\", ajay)\n",
        "prem = tree.addNode(\"Prem\", nidhi)\n",
        "lina = tree.addNode(\"Lina\", nidhi)\n"
      ]
    },
    {
      "cell_type": "code",
      "execution_count": null,
      "metadata": {
        "colab": {
          "base_uri": "https://localhost:8080/"
        },
        "id": "QmSBNw8zntyo",
        "outputId": "315baf19-d905-4f14-f6c9-0487cd851b9c"
      },
      "outputs": [
        {
          "name": "stdout",
          "output_type": "stream",
          "text": [
            "solution found\n",
            "node to find: Ankit\n",
            "path cost: 5\n",
            "['Rahul', 'Sanjay', 'Deepak', 'Vinay', 'Ankit']\n"
          ]
        }
      ],
      "source": [
        "bfs = tree.bfs(root, \"Ankit\")\n",
        "print(\"solution found\")\n",
        "print(\"node to find:\", bfs.name)\n",
        "print(\"path cost:\",bfs.level)\n",
        "tree.path(bfs)\n",
        "\n",
        "\n"
      ]
    },
    {
      "cell_type": "code",
      "execution_count": null,
      "metadata": {
        "id": "GyPiVLygqetj"
      },
      "outputs": [],
      "source": [
        "    # def get_path(self, node):\n",
        "\n",
        "    #     path = []\n",
        "    #     while node:\n",
        "    #         path.append(node.state)\n",
        "    #         node = node.parent\n",
        "\n",
        "    #     return path[::-1]"
      ]
    },
    {
      "cell_type": "code",
      "execution_count": null,
      "metadata": {
        "id": "0yRbjNI0qanS"
      },
      "outputs": [],
      "source": [
        "        # path = bfs.bfs()\n",
        "\n",
        "        # if path:\n",
        "        #     print(\"Path to the goal:\")\n",
        "        #     for state in path:\n",
        "        #         print(state)\n",
        "        # else:\n",
        "        #     print(\"No solution found.\")"
      ]
    },
    {
      "cell_type": "markdown",
      "metadata": {
        "id": "KZOPoF1Bpq2R"
      },
      "source": [
        "# **PRACTICAL -2**"
      ]
    },
    {
      "cell_type": "code",
      "execution_count": null,
      "metadata": {
        "colab": {
          "base_uri": "https://localhost:8080/"
        },
        "id": "r95DXZzarydL",
        "outputId": "32e4cbff-3e65-4eed-f890-3b68d3323d9d"
      },
      "outputs": [
        {
          "name": "stdout",
          "output_type": "stream",
          "text": [
            "Enter the capacity of the first jug: 4\n",
            "Enter the capacity of the second jug: 3\n",
            "Enter value of goal in jug 1: 2\n",
            "Enter value of goal in jug 2: 0\n",
            "Solution found:\n",
            "[(0, 0), (0, 3), (3, 0), (3, 3), (4, 2), (0, 2), (2, 0)]\n"
          ]
        }
      ],
      "source": [
        "from collections import deque\n",
        "class Node:\n",
        "    def __init__(self, x, y, parent=None):\n",
        "        self.x = x\n",
        "        self.y = y\n",
        "        self.parent = parent\n",
        "\n",
        "    def apply_action(self, rule, waterjug_obj):\n",
        "        if rule == 1:\n",
        "            return Node(waterjug_obj.maxjug1, self.y, self)\n",
        "        elif rule == 2:\n",
        "            return Node(self.x, waterjug_obj.maxjug2, self)\n",
        "        elif rule == 3:\n",
        "            return Node(0, self.y, self)\n",
        "        elif rule == 4:\n",
        "            return Node(self.x, 0, self)\n",
        "        elif rule == 5:\n",
        "            diff = min(self.x, waterjug_obj.maxjug2 - self.y)\n",
        "            return Node(self.x - diff, self.y + diff, self)\n",
        "        elif rule == 6:\n",
        "            diff = min(self.y, waterjug_obj.maxjug1 - self.x)\n",
        "            return Node(self.x + diff, self.y - diff, self)\n",
        "        else:\n",
        "            return None\n",
        "\n",
        "    def is_goal_state(self, goal):\n",
        "        return self.x == goal[0] and self.y == goal[1]\n",
        "\n",
        "    def __repr__(self):\n",
        "        return f'Node({self.x}, {self.y})'\n",
        "\n",
        "class WaterJug:\n",
        "    def __init__(self, jug1, jug2):\n",
        "        self.maxjug1 = jug1\n",
        "        self.maxjug2 = jug2\n",
        "\n",
        "\n",
        "def bfs_search(initial_state, goal_state, waterjug_obj):\n",
        "    queue = deque([initial_state])\n",
        "    visited = set()\n",
        "\n",
        "    while queue:\n",
        "        current_node = queue.popleft()\n",
        "\n",
        "        if current_node.is_goal_state(goal_state):\n",
        "            return current_node\n",
        "\n",
        "        visited.add((current_node.x, current_node.y))\n",
        "\n",
        "        for rule in range(1, 7):\n",
        "            new_node = current_node.apply_action(rule, waterjug_obj)\n",
        "            if new_node and (new_node.x, new_node.y) not in visited:\n",
        "                queue.append(new_node)\n",
        "                visited.add((new_node.x, new_node.y))\n",
        "\n",
        "    return None\n",
        "\n",
        "\n",
        "if __name__ == \"__main__\":\n",
        "    waterjug1 = int(input(\"Enter the capacity of the first jug: \"))\n",
        "    waterjug2 = int(input(\"Enter the capacity of the second jug: \"))\n",
        "    waterjug_obj = WaterJug(waterjug1, waterjug2)\n",
        "\n",
        "    goal = int(input(\"Enter value of goal in jug 1: \"))\n",
        "    goal2 = int(input(\"Enter value of goal in jug 2: \"))\n",
        "    goal_state = (goal, goal2)\n",
        "\n",
        "    initial_state = Node(0, 0)\n",
        "    solution = bfs_search(initial_state, goal_state, waterjug_obj)\n",
        "\n",
        "    if solution:\n",
        "        path = []\n",
        "        while solution:\n",
        "            path.append((solution.x, solution.y))\n",
        "            solution = solution.parent\n",
        "        path.reverse()\n",
        "        print(\"Solution found:\")\n",
        "        print(path)\n",
        "\n",
        "    else:\n",
        "        print(\"No solution found.\")\n"
      ]
    },
    {
      "cell_type": "markdown",
      "metadata": {
        "id": "jS_1QxRjuZxM"
      },
      "source": [
        "# **TRIAL PRACTICAL 3**"
      ]
    },
    {
      "cell_type": "code",
      "execution_count": null,
      "metadata": {
        "colab": {
          "base_uri": "https://localhost:8080/",
          "height": 332
        },
        "id": "TUCCkDY_ujxN",
        "outputId": "d239edfe-cdd8-4c59-e35e-3db6c0feb999"
      },
      "outputs": [
        {
          "name": "stdout",
          "output_type": "stream",
          "text": [
            "Test Case 1:\n"
          ]
        },
        {
          "ename": "TypeError",
          "evalue": "unhashable type: 'list'",
          "output_type": "error",
          "traceback": [
            "\u001b[0;31m---------------------------------------------------------------------------\u001b[0m",
            "\u001b[0;31mTypeError\u001b[0m                                 Traceback (most recent call last)",
            "\u001b[0;32m<ipython-input-3-bdc0f2b9aec1>\u001b[0m in \u001b[0;36m<cell line: 94>\u001b[0;34m()\u001b[0m\n\u001b[1;32m     98\u001b[0m     \u001b[0mprint\u001b[0m\u001b[0;34m(\u001b[0m\u001b[0;34m\"Test Case 1:\"\u001b[0m\u001b[0;34m)\u001b[0m\u001b[0;34m\u001b[0m\u001b[0;34m\u001b[0m\u001b[0m\n\u001b[1;32m     99\u001b[0m     \u001b[0mpuzzle_solver\u001b[0m \u001b[0;34m=\u001b[0m \u001b[0mAstarSearch\u001b[0m\u001b[0;34m(\u001b[0m\u001b[0minitial_state\u001b[0m\u001b[0;34m,\u001b[0m \u001b[0mgoal_state\u001b[0m\u001b[0;34m)\u001b[0m\u001b[0;34m\u001b[0m\u001b[0;34m\u001b[0m\u001b[0m\n\u001b[0;32m--> 100\u001b[0;31m     \u001b[0mpuzzle_solver\u001b[0m\u001b[0;34m.\u001b[0m\u001b[0mperform_algorithm\u001b[0m\u001b[0;34m(\u001b[0m\u001b[0;34m)\u001b[0m\u001b[0;34m\u001b[0m\u001b[0;34m\u001b[0m\u001b[0m\n\u001b[0m",
            "\u001b[0;32m<ipython-input-3-bdc0f2b9aec1>\u001b[0m in \u001b[0;36mperform_algorithm\u001b[0;34m(self)\u001b[0m\n\u001b[1;32m     43\u001b[0m                 \u001b[0;32mreturn\u001b[0m \u001b[0;32mTrue\u001b[0m\u001b[0;34m\u001b[0m\u001b[0;34m\u001b[0m\u001b[0m\n\u001b[1;32m     44\u001b[0m \u001b[0;34m\u001b[0m\u001b[0m\n\u001b[0;32m---> 45\u001b[0;31m             \u001b[0mclosed_list\u001b[0m\u001b[0;34m.\u001b[0m\u001b[0madd\u001b[0m\u001b[0;34m(\u001b[0m\u001b[0mcurrent_node\u001b[0m\u001b[0;34m.\u001b[0m\u001b[0mstate\u001b[0m\u001b[0;34m)\u001b[0m\u001b[0;34m\u001b[0m\u001b[0;34m\u001b[0m\u001b[0m\n\u001b[0m\u001b[1;32m     46\u001b[0m             \u001b[0mchildren\u001b[0m \u001b[0;34m=\u001b[0m \u001b[0mself\u001b[0m\u001b[0;34m.\u001b[0m\u001b[0mget_children\u001b[0m\u001b[0;34m(\u001b[0m\u001b[0mcurrent_node\u001b[0m\u001b[0;34m)\u001b[0m\u001b[0;34m\u001b[0m\u001b[0;34m\u001b[0m\u001b[0m\n\u001b[1;32m     47\u001b[0m             \u001b[0;32mfor\u001b[0m \u001b[0mchild\u001b[0m \u001b[0;32min\u001b[0m \u001b[0mchildren\u001b[0m\u001b[0;34m:\u001b[0m\u001b[0;34m\u001b[0m\u001b[0;34m\u001b[0m\u001b[0m\n",
            "\u001b[0;31mTypeError\u001b[0m: unhashable type: 'list'"
          ]
        }
      ],
      "source": [
        "from enum import Enum\n",
        "import time\n",
        "\n",
        "\n",
        "class Action(Enum):\n",
        "    LEFT = 1\n",
        "    RIGHT = 2\n",
        "    UP = 3\n",
        "    DOWN = 4\n",
        "\n",
        "\n",
        "class Node:\n",
        "    def __init__(self, state, parent, action, depth, cost):\n",
        "        self.state = state\n",
        "        self.parent = parent\n",
        "        self.action = action\n",
        "        self.depth = depth\n",
        "        self.cost = cost\n",
        "\n",
        "    def __lt__(self, other):\n",
        "        return self.cost < other.cost\n",
        "\n",
        "\n",
        "class AstarSearch:\n",
        "    def __init__(self, initial_state, goal_state):\n",
        "        self.initial_state = initial_state\n",
        "        self.goal_state = goal_state\n",
        "\n",
        "    def perform_algorithm(self):\n",
        "        start_time = time.time()\n",
        "        open_list = []\n",
        "        closed_list = set()\n",
        "        initial_node = Node(self.initial_state, None, None, 0, 0)\n",
        "        open_list.append(initial_node)\n",
        "\n",
        "        while open_list:\n",
        "            open_list.sort()\n",
        "            current_node = open_list.pop(0)\n",
        "            if current_node.state == self.goal_state:\n",
        "                end_time = time.time()\n",
        "                execution_time = end_time - start_time\n",
        "                self.final_output(current_node, execution_time)\n",
        "                return True\n",
        "\n",
        "            closed_list.add(current_node.state)\n",
        "            children = self.get_children(current_node)\n",
        "            for child in children:\n",
        "                if child.state not in closed_list:\n",
        "                    open_list.append(child)\n",
        "        return False\n",
        "\n",
        "    def get_children(self, node):\n",
        "        children = []\n",
        "        zero_index = node.state.index(0)\n",
        "        row, col = divmod(zero_index, 3)\n",
        "\n",
        "        def get_state(row, col, new_row, new_col):\n",
        "            state = node.state[:]\n",
        "            new_index = new_row * 3 + new_col\n",
        "            state[zero_index], state[new_index] = state[new_index], state[zero_index]\n",
        "            return state\n",
        "\n",
        "        if row > 0:\n",
        "            children.append(Node(get_state(row, col, row - 1, col), node, Action.UP, node.depth + 1, 0))\n",
        "        if row < 2:\n",
        "            children.append(Node(get_state(row, col, row + 1, col), node, Action.DOWN, node.depth + 1, 0))\n",
        "        if col > 0:\n",
        "            children.append(Node(get_state(row, col, row, col - 1), node, Action.LEFT, node.depth + 1, 0))\n",
        "        if col < 2:\n",
        "            children.append(Node(get_state(row, col, row, col + 1), node, Action.RIGHT, node.depth + 1, 0))\n",
        "\n",
        "        return children\n",
        "\n",
        "    def final_output(self, node, execution_time):\n",
        "        path = self.get_path(node)\n",
        "        print(\"Solution Path:\")\n",
        "        for state in path:\n",
        "            print(state[0:3])\n",
        "            print(state[3:6])\n",
        "            print(state[6:9])\n",
        "            print()\n",
        "        print(\"Execution Time:\", execution_time)\n",
        "        print(\"Number of Steps:\", len(path) - 1)\n",
        "\n",
        "    def get_path(self, node):\n",
        "        path = []\n",
        "        while node:\n",
        "            path.append(node.state)\n",
        "            node = node.parent\n",
        "        return path[::-1]\n",
        "\n",
        "\n",
        "# Test Cases\n",
        "if __name__ == \"__main__\":\n",
        "    initial_state = [1, 2, 3, 4, 0, 5, 6, 7, 8]\n",
        "    goal_state = [1, 2, 3, 4, 5, 8, 6, 0, 7]\n",
        "\n",
        "    print(\"Test Case 1:\")\n",
        "    puzzle_solver = AstarSearch(initial_state, goal_state)\n",
        "    puzzle_solver.perform_algorithm()\n"
      ]
    },
    {
      "cell_type": "markdown",
      "metadata": {
        "id": "LxR-1l9AzaYt"
      },
      "source": []
    },
    {
      "cell_type": "markdown",
      "source": [],
      "metadata": {
        "id": "sJIdsGxTxRuY"
      }
    },
    {
      "cell_type": "markdown",
      "metadata": {
        "id": "wyHwjiHEs_c2"
      },
      "source": [
        "# **Practical 3**"
      ]
    },
    {
      "cell_type": "code",
      "execution_count": null,
      "metadata": {
        "id": "oYtmuiqftTH3"
      },
      "outputs": [],
      "source": [
        "from enum import Enum\n",
        "import time"
      ]
    },
    {
      "cell_type": "code",
      "execution_count": null,
      "metadata": {
        "id": "pI-3Oh2jte01"
      },
      "outputs": [],
      "source": [
        "class Action(Enum):\n",
        "  MoveUp=1\n",
        "  MoveDown=2\n",
        "  MoveRight=3\n",
        "  MoveLeft=4\n",
        "  NoAction=5\n"
      ]
    },
    {
      "cell_type": "code",
      "execution_count": null,
      "metadata": {
        "id": "AbzO7AwDtvfY"
      },
      "outputs": [],
      "source": [
        "class Node:\n",
        "    def __init__(self, state, parent, action, depth, cost):\n",
        "        self.state = state\n",
        "        self.parent = parent\n",
        "        self.action = action\n",
        "        self.depth = depth\n",
        "        self.cost = cost\n",
        "\n",
        "    def __lt__(self, other):\n",
        "        return self.cost < other.cost"
      ]
    },
    {
      "cell_type": "code",
      "execution_count": null,
      "metadata": {
        "id": "JMxfI5uFu-LU"
      },
      "outputs": [],
      "source": [
        "class Astar:\n",
        "    def __init__(self, initial_state, goal_state):\n",
        "        self.initial_state = initial_state\n",
        "        self.goal_state = goal_state\n",
        "    def perform_algorithm(self):\n",
        "        open_list = []\n",
        "        closed_list = []\n",
        "        initial_node = Node(initial_state, None, None, 0, 0)\n",
        "        open_list.append(initial_node)\n",
        "\n",
        "        while open_list:\n",
        "            open_list.sort()\n",
        "            current_node = open_list.pop(0)\n",
        "            if current_node.state == self.goal_state:\n",
        "                self.final_output(current_node)\n",
        "                return True"
      ]
    },
    {
      "cell_type": "code",
      "execution_count": 6,
      "metadata": {
        "colab": {
          "base_uri": "https://localhost:8080/",
          "height": 454
        },
        "id": "MQAUe0gdzksv",
        "outputId": "b661f613-c3ff-41cc-b647-67572a1e3c59"
      },
      "outputs": [
        {
          "name": "stdout",
          "output_type": "stream",
          "text": [
            "\n",
            "\n",
            "Choose X or Y\n",
            "x\n",
            "\n",
            "Choose X or Y\n",
            "y\n",
            "\n",
            "Choose X or Y\n",
            "X\n",
            "first to start[y/n]:y\n",
            "first to start[y/n]:Y\n",
            "Enter your move (1-9):1\n"
          ]
        },
        {
          "output_type": "error",
          "ename": "NameError",
          "evalue": "name 'l' is not defined",
          "traceback": [
            "\u001b[0;31m---------------------------------------------------------------------------\u001b[0m",
            "\u001b[0;31mNameError\u001b[0m                                 Traceback (most recent call last)",
            "\u001b[0;32m<ipython-input-6-696cc6af871e>\u001b[0m in \u001b[0;36m<cell line: 149>\u001b[0;34m()\u001b[0m\n\u001b[1;32m    147\u001b[0m \u001b[0mgame\u001b[0m \u001b[0;34m=\u001b[0m \u001b[0mStateNode\u001b[0m\u001b[0;34m(\u001b[0m\u001b[0;34m)\u001b[0m\u001b[0;34m\u001b[0m\u001b[0;34m\u001b[0m\u001b[0m\n\u001b[1;32m    148\u001b[0m \u001b[0mgame\u001b[0m\u001b[0;34m.\u001b[0m\u001b[0mstart_game\u001b[0m\u001b[0;34m(\u001b[0m\u001b[0;34m)\u001b[0m\u001b[0;34m\u001b[0m\u001b[0;34m\u001b[0m\u001b[0m\n\u001b[0;32m--> 149\u001b[0;31m \u001b[0ml\u001b[0m\u001b[0;34m\u001b[0m\u001b[0;34m\u001b[0m\u001b[0m\n\u001b[0m\u001b[1;32m    150\u001b[0m \u001b[0;34m\u001b[0m\u001b[0m\n\u001b[1;32m    151\u001b[0m \u001b[0;34m\u001b[0m\u001b[0m\n",
            "\u001b[0;31mNameError\u001b[0m: name 'l' is not defined"
          ]
        }
      ],
      "source": []
    },
    {
      "cell_type": "markdown",
      "metadata": {
        "id": "u75C_bV6z9_F"
      },
      "source": [
        "# **Practical 4**"
      ]
    },
    {
      "cell_type": "code",
      "execution_count": 9,
      "metadata": {
        "id": "C25ySRy207gk",
        "colab": {
          "base_uri": "https://localhost:8080/",
          "height": 1000
        },
        "outputId": "621a6ad0-0720-412f-f70c-9588208f18a1"
      },
      "outputs": [
        {
          "output_type": "stream",
          "name": "stdout",
          "text": [
            "\n",
            "\n",
            "Choose X or O\n",
            "Chosen: x\n",
            "\n",
            "First to start?[y/n]: y\n",
            "\n",
            "Player Move [X]\n"
          ]
        },
        {
          "output_type": "display_data",
          "data": {
            "text/plain": [
              "<Figure size 300x300 with 1 Axes>"
            ],
            "image/png": "[encoded data removed]"
          },
          "metadata": {}
        },
        {
          "output_type": "stream",
          "name": "stdout",
          "text": [
            "Use numpad (1..9): 4\n",
            "\n",
            "Computer Move [O]\n"
          ]
        },
        {
          "output_type": "display_data",
          "data": {
            "text/plain": [
              "<Figure size 300x300 with 1 Axes>"
            ],
            "image/png": "[encoded data removed]"
          },
          "metadata": {}
        },
        {
          "output_type": "stream",
          "name": "stdout",
          "text": [
            "\n",
            "Player Move [X]\n"
          ]
        },
        {
          "output_type": "display_data",
          "data": {
            "text/plain": [
              "<Figure size 300x300 with 1 Axes>"
            ],
            "image/png": "[encoded data removed]"
          },
          "metadata": {}
        },
        {
          "output_type": "stream",
          "name": "stdout",
          "text": [
            "Use numpad (1..9): 5\n",
            "\n",
            "Computer Move [O]\n"
          ]
        },
        {
          "output_type": "display_data",
          "data": {
            "text/plain": [
              "<Figure size 300x300 with 1 Axes>"
            ],
            "image/png": "[encoded data removed]"
          },
          "metadata": {}
        },
        {
          "output_type": "stream",
          "name": "stdout",
          "text": [
            "\n",
            "Player Move [X]\n"
          ]
        },
        {
          "output_type": "display_data",
          "data": {
            "text/plain": [
              "<Figure size 300x300 with 1 Axes>"
            ],
            "image/png": "[encoded data removed]"
          },
          "metadata": {}
        },
        {
          "output_type": "stream",
          "name": "stdout",
          "text": [
            "Use numpad (1..9): 8\n",
            "\n",
            "Computer Move [O]\n"
          ]
        },
        {
          "output_type": "display_data",
          "data": {
            "text/plain": [
              "<Figure size 300x300 with 1 Axes>"
            ],
            "image/png": "[encoded data removed]"
          },
          "metadata": {}
        },
        {
          "output_type": "stream",
          "name": "stdout",
          "text": [
            "\n",
            "Player Move [X]\n"
          ]
        },
        {
          "output_type": "display_data",
          "data": {
            "text/plain": [
              "<Figure size 300x300 with 1 Axes>"
            ],
            "image/png": "[encoded data removed]"
          },
          "metadata": {}
        },
        {
          "output_type": "stream",
          "name": "stdout",
          "text": [
            "Use numpad (1..9): 7\n",
            "\n",
            "Computer Move [O]\n"
          ]
        },
        {
          "output_type": "display_data",
          "data": {
            "text/plain": [
              "<Figure size 300x300 with 1 Axes>"
            ],
            "image/png": "[encoded data removed]"
          },
          "metadata": {}
        },
        {
          "output_type": "stream",
          "name": "stdout",
          "text": [
            "\n",
            "Computer Move [O]\n"
          ]
        },
        {
          "output_type": "display_data",
          "data": {
            "text/plain": [
              "<Figure size 300x300 with 1 Axes>"
            ],
            "image/png": "[encoded data removed]"
          },
          "metadata": {}
        },
        {
          "output_type": "stream",
          "name": "stdout",
          "text": [
            "YOU LOSE!\n"
          ]
        }
      ],
      "source": [
        "from math import inf as infinity\n",
        "from random import choice\n",
        "from google.colab import output\n",
        "import matplotlib.pyplot as plt\n",
        "\n",
        "HUMAN = -1\n",
        "COMP = +1\n",
        "\n",
        "class StateNode:\n",
        "    def __init__(self):\n",
        "        self.board = [\n",
        "            [0, 0, 0],\n",
        "            [0, 0, 0],\n",
        "            [0, 0, 0],\n",
        "        ]\n",
        "\n",
        "    def getScoreValue(self):\n",
        "        if self.isWin(COMP):\n",
        "            score = +1\n",
        "        elif self.isWin(HUMAN):\n",
        "            score = -1\n",
        "        else:\n",
        "            score = 0\n",
        "\n",
        "        return score\n",
        "\n",
        "    def isGameOver(self):\n",
        "        return self.isWin(HUMAN) or self.isWin(COMP)\n",
        "\n",
        "    def getEmptyCells(self):\n",
        "        cells = []\n",
        "        for x, row in enumerate(self.board):\n",
        "            for y, cell in enumerate(row):\n",
        "                if cell == 0:\n",
        "                    cells.append([x, y])\n",
        "        return cells\n",
        "\n",
        "    def isValidMove(self, x, y):\n",
        "        if [x, y] in self.getEmptyCells():\n",
        "            return True\n",
        "        else:\n",
        "            return False\n",
        "\n",
        "    def setMove(self, x, y, player):\n",
        "        if self.isValidMove(x, y):\n",
        "            self.board[x][y] = player\n",
        "            return True\n",
        "        else:\n",
        "            return False\n",
        "\n",
        "    def isWin(self, player):\n",
        "        state = self.board\n",
        "        win_state = [\n",
        "            [state[0][0], state[0][1], state[0][2]],\n",
        "            [state[1][0], state[1][1], state[1][2]],\n",
        "            [state[2][0], state[2][1], state[2][2]],\n",
        "            [state[0][0], state[1][0], state[2][0]],\n",
        "            [state[0][1], state[1][1], state[2][1]],\n",
        "            [state[0][2], state[1][2], state[2][2]],\n",
        "            [state[0][0], state[1][1], state[2][2]],\n",
        "            [state[2][0], state[1][1], state[0][2]],\n",
        "        ]\n",
        "        if [player, player, player] in win_state:\n",
        "            return True\n",
        "        else:\n",
        "            return False\n",
        "\n",
        "    def getMatrixZeros(self, sizeRow, sizeCol):\n",
        "        matrix = []\n",
        "        for i in range(0, sizeRow):\n",
        "            row = []\n",
        "            for j in range(0, sizeCol):\n",
        "                row.append(int(0))\n",
        "            matrix.append(row)\n",
        "        return (matrix)\n",
        "\n",
        "    def drawBoard(self, c_choice, h_choice):\n",
        "        chars = {\n",
        "            -1: h_choice,\n",
        "            +1: c_choice,\n",
        "            0: ' '\n",
        "        }\n",
        "        matrix = self.getMatrixZeros(3, 3)\n",
        "        for row in range(3):\n",
        "            for col in range(3):\n",
        "                matrix[row][col] = chars[self.board[row][col]]\n",
        "        w = 3\n",
        "        h = 3\n",
        "        plt.figure(1, figsize=(w, h))\n",
        "        tb = plt.table(cellText=matrix, loc=(0, 0), cellLoc='center')\n",
        "        for i in range(3):\n",
        "            for j in range(3):\n",
        "                if self.board[i][j] == 1:\n",
        "                    tb._cells[(i, j)]._text.set_color('#960018')\n",
        "                    tb._cells[(i, j)]._text.set_weight('extra bold')\n",
        "                    tb._cells[(i, j)].set_facecolor(\"#CD853F\")\n",
        "                elif self.board[i][j] == -1:\n",
        "                    tb._cells[(i, j)].set_facecolor(\"#F9CD81\")\n",
        "                else:\n",
        "                    tb._cells[(i, j)].set_facecolor(\"#FADFAD\")\n",
        "                tb._cells[(i, j)].set_height(1.0 / 3)\n",
        "                tb._cells[(i, j)].set_width(1.0 / 3)\n",
        "        ax = plt.gca()\n",
        "        ax.set_xticks([])\n",
        "        ax.set_yticks([])\n",
        "        plt.show()\n",
        "\n",
        "class TicTacToe:\n",
        "    def clean(self):\n",
        "        print()\n",
        "\n",
        "    def minimax(self, state, depth, player):\n",
        "        if player == COMP:\n",
        "            best = [-1, -1, -infinity]\n",
        "        else:\n",
        "            best = [-1, -1, +infinity]\n",
        "\n",
        "        if depth == 0 or state.isGameOver():\n",
        "            score = state.getScoreValue()\n",
        "            return [-1, -1, score]\n",
        "\n",
        "        for cell in state.getEmptyCells():\n",
        "            x, y = cell[0], cell[1]\n",
        "            state.board[x][y] = player\n",
        "            score = self.minimax(state, depth - 1, -player)\n",
        "            state.board[x][y] = 0\n",
        "            score[0], score[1] = x, y\n",
        "\n",
        "            if player == COMP:\n",
        "                if score[2] > best[2]:\n",
        "                    best = score\n",
        "            else:\n",
        "                if score[2] < best[2]:\n",
        "                    best = score\n",
        "\n",
        "        return best\n",
        "\n",
        "    def computerMove(self, state, c_choice, h_choice):\n",
        "        depth = len(state.getEmptyCells())\n",
        "        if depth == 0 or state.isGameOver():\n",
        "            return\n",
        "\n",
        "        self.clean()\n",
        "        print(f'Computer Move [{c_choice}]')\n",
        "        state.drawBoard(c_choice, h_choice)\n",
        "\n",
        "        if depth == 9:\n",
        "            x = choice([0, 1, 2])\n",
        "            y = choice([0, 1, 2])\n",
        "        else:\n",
        "            move = self.minimax(state, depth, COMP)\n",
        "            x, y = move[0], move[1]\n",
        "\n",
        "        state.setMove(x, y, COMP)\n",
        "\n",
        "    def playerMove(self, state, c_choice, h_choice):\n",
        "        depth = len(state.getEmptyCells())\n",
        "        if depth == 0 or state.isGameOver():\n",
        "            return\n",
        "\n",
        "        move = -1\n",
        "        moves = {\n",
        "            1: [0, 0], 2: [0, 1], 3: [0, 2],\n",
        "            4: [1, 0], 5: [1, 1], 6: [1, 2],\n",
        "            7: [2, 0], 8: [2, 1], 9: [2, 2],\n",
        "        }\n",
        "\n",
        "        self.clean()\n",
        "        print(f'Player Move [{h_choice}]')\n",
        "        state.drawBoard(c_choice, h_choice)\n",
        "\n",
        "        while move < 1 or move > 9:\n",
        "            try:\n",
        "                move = int(input('Use numpad (1..9): '))\n",
        "                coord = moves[move]\n",
        "                can_move = state.setMove(coord[0], coord[1], HUMAN)\n",
        "\n",
        "                if not can_move:\n",
        "                    print('Bad move')\n",
        "                    move = -1\n",
        "            except (EOFError, KeyboardInterrupt):\n",
        "                print('Bye')\n",
        "                exit()\n",
        "            except (KeyError, ValueError):\n",
        "                print('Bad choice')\n",
        "\n",
        "    def inputFunc(self, stringInput):\n",
        "        try:\n",
        "            return input(stringInput).upper()\n",
        "        except (EOFError, KeyboardInterrupt):\n",
        "            print('Bye')\n",
        "            exit()\n",
        "        except (KeyError, ValueError):\n",
        "            print('Bad choice')\n",
        "            exit()\n",
        "\n",
        "    def start_game(self):\n",
        "        self.clean()\n",
        "        h_choice = ''\n",
        "        c_choice = ''\n",
        "        first = ''\n",
        "        state = StateNode()\n",
        "\n",
        "        while h_choice != 'O' and h_choice != 'X':\n",
        "            print('')\n",
        "            h_choice = self.inputFunc('Choose X or O\\nChosen: ')\n",
        "\n",
        "        if h_choice == 'X':\n",
        "            c_choice = 'O'\n",
        "        else:\n",
        "            c_choice = 'X'\n",
        "\n",
        "        self.clean()\n",
        "        while first != 'Y' and first != 'N':\n",
        "            first = self.inputFunc('First to start?[y/n]: ')\n",
        "\n",
        "        while len(state.getEmptyCells()) > 0 and not state.isGameOver():\n",
        "            if first == 'N':\n",
        "                self.computerMove(state, c_choice, h_choice)\n",
        "                first = ''\n",
        "\n",
        "            self.playerMove(state, c_choice, h_choice)\n",
        "            self.computerMove(state, c_choice, h_choice)\n",
        "\n",
        "        if state.isWin(HUMAN):\n",
        "            self.clean()5\n",
        "\n",
        "            print(f'PLAYER Move [{h_choice}]')\n",
        "            state.drawBoard(c_choice, h_choice)\n",
        "            print('YOU WIN!')\n",
        "        elif state.isWin(COMP):\n",
        "            self.clean()\n",
        "            print(f'Computer Move [{c_choice}]')\n",
        "            state.drawBoard(c_choice, h_choice)\n",
        "            print('YOU LOSE!')\n",
        "        else:\n",
        "            self.clean()\n",
        "            state.drawBoard(c_choice, h_choice)\n",
        "            print('DRAW!')\n",
        "\n",
        "TicTacToe().start_game()\n"
      ]
    },
    {
      "cell_type": "code",
      "source": [],
      "metadata": {
        "id": "Pzw_K9qFAD83"
      },
      "execution_count": null,
      "outputs": []
    },
    {
      "cell_type": "markdown",
      "source": [
        "# **TRIAL PRACTICAL 5**"
      ],
      "metadata": {
        "id": "ZA0sy0V6xVzc"
      }
    },
    {
      "cell_type": "code",
      "source": [
        "import numpy as np\n",
        "\n",
        "class NeuralNetwork:\n",
        "    def __init__(self, input_size, hidden_size, output_size):\n",
        "        self.input_size = input_size\n",
        "        self.hidden_size = hidden_size\n",
        "        self.output_size = output_size\n",
        "\n",
        "        # Initialize weights and biases randomly\n",
        "        self.W_in_hid = np.random.uniform(-1, 1, (self.input_size, self.hidden_size))\n",
        "        self.b_hid = np.random.uniform(-1, 1, (1, self.hidden_size))\n",
        "        self.W_hid_out = np.random.uniform(-1, 1, (self.hidden_size, self.output_size))\n",
        "        self.b_out = np.random.uniform(-1, 1, (1, self.output_size))\n",
        "\n",
        "    def sigmoid(self, x):\n",
        "        return 1 / (1 + np.exp(-x))\n",
        "\n",
        "    def sigmoid_derivative(self, x):\n",
        "        return x * (1 - x)\n",
        "\n",
        "    def forward(self, X):\n",
        "        # Forward pass\n",
        "        Hin = np.dot(X, self.W_in_hid) + self.b_hid\n",
        "        Hout = self.sigmoid(Hin)\n",
        "        Oin = np.dot(Hout, self.W_hid_out) + self.b_out\n",
        "        Oout = self.sigmoid(Oin)\n",
        "        return Oout, Hout\n",
        "\n",
        "    def mean_squared_error_loss(self, T, P):\n",
        "        return np.mean(np.square(T - P))\n",
        "\n",
        "    def mean_squared_error_loss_derivative(self, P, T):\n",
        "        return 2 * (P - T) / T.shape[0]\n",
        "\n",
        "    def train(self, X, T, learning_rate, epochs):\n",
        "        for epoch in range(epochs):\n",
        "            O, H = self.forward(X)\n",
        "            loss = self.mean_squared_error_loss(T, O)\n",
        "\n",
        "            if np.isclose(loss, 0.0):\n",
        "                print(\"Converged at epoch\", epoch+1)\n",
        "                break\n",
        "\n",
        "            delta_out = self.mean_squared_error_loss_derivative(O, T) * self.sigmoid_derivative(O)\n",
        "            error_hid = np.dot(delta_out, self.W_hid_out.T)\n",
        "            delta_hid = error_hid * self.sigmoid_derivative(H)\n",
        "\n",
        "            self.W_hid_out -= learning_rate * np.dot(H.T, delta_out)\n",
        "            self.b_out -= learning_rate * np.sum(delta_out, axis=0, keepdims=True)\n",
        "            self.W_in_hid -= learning_rate * np.dot(X.T, delta_hid)\n",
        "            self.b_hid -= learning_rate * np.sum(delta_hid, axis=0, keepdims=True)\n",
        "\n",
        "    def predict(self, X):\n",
        "        return self.forward(X)[0]\n",
        "\n",
        "def main():\n",
        "    # Define XOR inputs and targets\n",
        "    X = np.array([[0, 0], [0, 1], [1, 0], [1, 1]])\n",
        "    T = np.array([[0], [1], [1], [0]])\n",
        "\n",
        "    # Initialize and train the neural network\n",
        "    nn = NeuralNetwork(input_size=2, hidden_size=3, output_size=1)\n",
        "    nn.train(X, T, learning_rate=0.1, epochs=10000)\n",
        "\n",
        "    # Print trained parameters\n",
        "    print(\"Trained Parameters:\")\n",
        "    print(\"Input to Hidden Weights:\\n\", nn.W_in_hid)\n",
        "    print(\"Hidden Biases:\\n\", nn.b_hid)\n",
        "    print(\"Hidden to Output Weights:\\n\", nn.W_hid_out)\n",
        "    print(\"Output Biases:\\n\", nn.b_out)\n",
        "\n",
        "    # Print output of neural network after training for all possible inputs\n",
        "    print(\"\\nOutput after Training:\")\n",
        "    for i in range(len(X)):\n",
        "        print(\"Input:\", X[i], \"Target:\", T[i], \"Predicted:\", nn.predict(X[i].reshape(1, -1)))\n",
        "\n",
        "if __name__ == \"__main__\":\n",
        "    main()\n"
      ],
      "metadata": {
        "colab": {
          "base_uri": "https://localhost:8080/"
        },
        "id": "kCrO4I4DxeMX",
        "outputId": "c6d2dbac-e5bb-476f-ea63-430fcab3e156"
      },
      "execution_count": null,
      "outputs": [
        {
          "output_type": "stream",
          "name": "stdout",
          "text": [
            "Hidden Layer Weights:\n",
            "[[-1.09678934  0.28392953 -0.381906  ]\n",
            " [-1.39829647 -0.90953357  0.42785265]]\n",
            "Hidden Layer Bias:\n",
            "[[-0.75589528 -0.12184247 -0.7208585 ]]\n",
            "Output Layer Weights:\n",
            "[[-1.46941977]\n",
            " [ 0.49969857]\n",
            " [ 0.17377182]]\n",
            "Output Layer Bias:\n",
            "[[-0.03224193]]\n",
            "Output for all possible inputs:\n",
            "Input: [0 0] Output: [[0.4476249]]\n",
            "Input: [0 1] Output: [[0.50515056]]\n",
            "Input: [1 0] Output: [[0.52047055]]\n",
            "Input: [1 1] Output: [[0.5329978]]\n"
          ]
        }
      ]
    },
    {
      "cell_type": "markdown",
      "source": [],
      "metadata": {
        "id": "C2DD9Fi-A-JI"
      }
    },
    {
      "cell_type": "markdown",
      "source": [
        "# **PRACTICAL 5**"
      ],
      "metadata": {
        "id": "GtPjF1prBAlC"
      }
    },
    {
      "cell_type": "code",
      "source": [
        "# Algorithm 1 Neural Network Initialization\n",
        "\n",
        "# 1: procedure InitNN\n",
        "# 2: nin ← Input size\n",
        "# 3: nhid ← Hidden layer size\n",
        "# 4: nout ← 1\n",
        "# 5: Win hid ← Randomly initialized weights\n",
        "# 6: bhid ← Randomly initialized biases\n",
        "# 7: Whid out ← Randomly initialized weights\n",
        "# 8: bout ← Randomly initialized biases\n",
        "# 9: end procedure\n",
        "\n",
        "# Variables:\n",
        "\n",
        "# • nin: Dimension of the input layer (nin × 1 vector).\n",
        "# • nhid: Dimension of the hidden layer (nhid × 1 vector).\n",
        "# • nout: Dimension of the output layer (fixed to 1 for this problem).\n",
        "# • Win hid: Weight matrix connecting input layer to hidden layer (nin × nhid\n",
        "# matrix).\n",
        "# • bhid: Bias vector for the hidden layer (nhid × 1 vector).\n",
        "# • Whid out: Weight matrix connecting hidden layer to output layer (nhid ×\n",
        "# nout matrix).\n",
        "# • bout: Bias vector for the output layer (fixed to 1 for this problem).\n",
        "\n",
        "\n",
        "class NeuralNetwork:\n",
        "    def __init__(self, input_size, hidden_size, output_size):\n",
        "        self.input_size = input_size\n",
        "        self.hidden_size = hidden_size\n",
        "        self.output_size = output_size\n",
        "        self.W_in_hid = np.random.uniform(-1, 1, (self.input_size, self.hidden_size))\n",
        "        self.b_hid = np.random.uniform(-1, 1, (1, self.hidden_size))\n",
        "        self.W_hid_out = np.random.uniform(-1, 1, (self.hidden_size, self.output_size))\n",
        "        self.b_out = np.random.uniform(-1, 1, (1, self.output_size))\n",
        "\n",
        "\n",
        "# Algorithm 2 Sigmoid Activation Function\n",
        "\n",
        "# 1: procedure Sigmoid(x)\n",
        "# 2: return 1/(1 + e\n",
        "# −x\n",
        "# )\n",
        "# 3: end procedure\n",
        "\n",
        "    def sigmoid(self, x):\n",
        "        return 1 / (1 + np.exp(-x))\n",
        "\n",
        "# Algorithm 3 Sigmoid Derivative Function\n",
        "\n",
        "# 1: procedure SigmoidDerivative(x)\n",
        "# 2: return x · (1 − x)\n",
        "# 3: end procedure\n",
        "\n",
        "    def sigmoid_derivative(self, x):\n",
        "        return x * (1 - x)\n",
        "\n",
        "\n",
        "# Algorithm 4 Forward Pass\n",
        "\n",
        "# 1: procedure Forward(X)\n",
        "# 2: Hin ← X · Win hid + bhid\n",
        "# 3: Hout ← Sigmoid(Hin)\n",
        "# 4: Oin ← Hout · Whid out + bout\n",
        "# 5: Oout ← Sigmoid(Oin)\n",
        "# 6: return Oout, Hout\n",
        "# 7: end procedure\n",
        "\n",
        "# Variables:\n",
        "\n",
        "# • X: Input data matrix (m × nin, where m is the number of samples).\n",
        "# • Hin: Input to the hidden layer (m × nhid matrix).\n",
        "# • Hout: Output of the hidden layer (m × nhid matrix).\n",
        "# • Oin: Input to the output layer (m × nout matrix).\n",
        "# • Oout: Output of the output layer (m × nout matrix).\n",
        "\n",
        "\n",
        "    def forward(self, X):\n",
        "        Hin = np.dot(X, self.W_in_hid) + self.b_hid\n",
        "        Hout = self.sigmoid(Hin)\n",
        "        Oin = np.dot(Hout, self.W_hid_out) + self.b_out\n",
        "        Oout = self.sigmoid(Oin)\n",
        "        return Oout, Hout\n",
        "\n",
        "\n",
        "# Algorithm 5 Mean Squared Error Loss Calculation\n",
        "\n",
        "# 1: procedure MeanSquaredErrorLoss(T, P)\n",
        "# 2: return 1/ N\n",
        "# PN\n",
        "# i=1(Ti − Pi)\n",
        "# 2\n",
        "# 3: end procedure\n",
        "\n",
        "    def mean_squared_error_loss(self, T, P):\n",
        "        return np.mean(np.square(T - P))\n",
        "\n",
        "# Algorithm 6 Mean Squared Error Loss Derivative\n",
        "\n",
        "# 1: procedure MeanSquaredErrorLossDerivative(P, T)\n",
        "# 2: return 2/N* (P-T)\n",
        "# 3: end procedure\n",
        "\n",
        "    def mean_squared_error_loss_derivative(self, P, T):\n",
        "        return 2 * (P - T) / T.shape[0]\n",
        "\n",
        "\n",
        "# Algorithm 7 and 8 are the alternative way to caluculate\n",
        "# loss we are giung to use that when we are dealing with\n",
        "# binary classification or multiple classes.\n",
        "\n",
        "\n",
        "# Algorithm 9 Training the Neural Network\n",
        "\n",
        "# 1: procedure TrainNN(X, T, η, epochs)\n",
        "# 2: for epoch ← 1 to epochs do\n",
        "# 3: O, H ← Forward(X)\n",
        "# 4: Eout ← LossFunction(T, O)\n",
        "# 5: if Eout ≈ 0.0 then\n",
        "# 6: break\n",
        "# 7: end if\n",
        "# 8: δout ← LossDerivative(O, T) · SigmoidDerivative(O)\n",
        "# 9: Ehid ← δout · W⊤\n",
        "# hid out\n",
        "# 10: δhid ← Ehid · SigmoidDerivative(H)\n",
        "# 11: Whid out ← Whid out − η · H⊤ · δout\n",
        "# 12: bout ← bout − η · sum(δout)\n",
        "# 13: Win hid ← Win hid − η · X⊤ · δhid\n",
        "# 14: bhid ← bhid − η · sum(δhid)\n",
        "# 15: end for\n",
        "# 16: end procedure\n",
        "\n",
        "# • T: Target output matrix (N × 1 vector).\n",
        "# • η: Learning rate (scalar).\n",
        "# • epochs: Number of training epochs (scalar).\n",
        "# • O: Output predictions (N × 1 vector).\n",
        "# • H: Hidden layer activations (N × nhid matrix, where nhid is the hidden\n",
        "# size).\n",
        "# • Eout: Current loss value (scalar).\n",
        "# • δout: Error signal for the output layer (N × 1 vector).\n",
        "# • Ehid: Error signal for the hidden layer (N × nhid matrix).\n",
        "# • δhid: Error signal for the hidden layer activations (N × nhid matrix).\n",
        "\n",
        "\n",
        "    def train(self, X, T, learning_rate, epochs):\n",
        "        for epoch in range(epochs):\n",
        "            O, H = self.forward(X)\n",
        "            loss = self.mean_squared_error_loss(T, O)\n",
        "\n",
        "            if np.isclose(loss, 0.0):\n",
        "                print(\"Converged at epoch\", epoch+1)\n",
        "                break\n",
        "\n",
        "            delta_out = self.mean_squared_error_loss_derivative(O, T) * self.sigmoid_derivative(O)\n",
        "            error_hid = np.dot(delta_out, self.W_hid_out.T)\n",
        "            delta_hid = error_hid * self.sigmoid_derivative(H)\n",
        "\n",
        "            self.W_hid_out -= learning_rate * np.dot(H.T, delta_out)\n",
        "            self.b_out -= learning_rate * np.sum(delta_out, axis=0, keepdims=True)\n",
        "            self.W_in_hid -= learning_rate * np.dot(X.T, delta_hid)\n",
        "            self.b_hid -= learning_rate * np.sum(delta_hid, axis=0, keepdims=True)\n",
        "\n",
        "\n",
        "\n",
        "# Algorithm 10 Testing Trained Neural Network\n",
        "\n",
        "# 1: procedure Predict(X)\n",
        "# 2: O, H ← Forward(X)\n",
        "# 3: return O\n",
        "# 4: end procedure\n",
        "\n",
        "# Variables:\n",
        "\n",
        "# • X: Input data matrix (N × D, where N is the number of samples and D\n",
        "# is the number of features).\n",
        "# • O: Output predictions (N × 1 vector).\n",
        "# • H: Hidden layer activations (N × M, where M is the number of neurons\n",
        "# in the hidden layer).\n",
        "\n",
        "\n",
        "\n",
        "    def predict(self, X):\n",
        "        return self.forward(X)[0]\n",
        "\n",
        "\n"
      ],
      "metadata": {
        "id": "5-_U-cvUBNuz"
      },
      "execution_count": 11,
      "outputs": []
    }
  ],
  "metadata": {
    "colab": {
      "collapsed_sections": [
        "QgkGlCI7pzNo",
        "KZOPoF1Bpq2R",
        "jS_1QxRjuZxM",
        "wyHwjiHEs_c2",
        "u75C_bV6z9_F",
        "ZA0sy0V6xVzc"
      ],
      "provenance": [],
      "authorship_tag": "ABX9TyPU1UldZm96/jEQ7ddYCwia",
      "include_colab_link": true
    },
    "kernelspec": {
      "display_name": "Python 3",
      "name": "python3"
    },
    "language_info": {
      "name": "python"
    }
  },
  "nbformat": 4,
  "nbformat_minor": 0
}